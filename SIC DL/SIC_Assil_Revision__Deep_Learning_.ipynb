{
 "cells": [
  {
   "cell_type": "markdown",
   "metadata": {
    "id": "C78ysjnnhLAJ"
   },
   "source": [
    "# Revisiondu test 601!!! "
   ]
  },
  {
   "cell_type": "markdown",
   "metadata": {
    "id": "nIh-q_cmhLAP"
   },
   "source": [
    "## \"NLP Classification Analysis.\""
   ]
  },
  {
   "cell_type": "markdown",
   "metadata": {
    "id": "YD7Kxnq7hLAQ"
   },
   "source": [
    "#### Answer the following questions by providing Python code:\n",
    "#### Objectives:\n",
    "- Pre-processing of text data.\n",
    "- Create a TF IDF representation.\n",
    "- Build network and train it untill validation loss reduces (EarlyStopping)\n",
    "- Carry out the predictive analysis using the Naive Bayes algorithm. \n",
    "- Carry out the predictive analysis using SVM. "
   ]
  },
  {
   "cell_type": "code",
   "execution_count": 1,
   "metadata": {
    "colab": {
     "base_uri": "https://localhost:8080/"
    },
    "id": "PvixsqYvhLAS",
    "outputId": "08e36a33-90ad-4f64-cd63-530125ae3574"
   },
   "outputs": [
    {
     "name": "stderr",
     "output_type": "stream",
     "text": [
      "[nltk_data] Downloading package stopwords to\n",
      "[nltk_data]     C:\\Users\\yanis\\AppData\\Roaming\\nltk_data...\n",
      "[nltk_data]   Package stopwords is already up-to-date!\n",
      "C:\\Users\\yanis\\anaconda3\\lib\\site-packages\\tensorflow\\python\\framework\\dtypes.py:526: FutureWarning: Passing (type, 1) or '1type' as a synonym of type is deprecated; in a future version of numpy, it will be understood as (type, (1,)) / '(1,)type'.\n",
      "  _np_qint8 = np.dtype([(\"qint8\", np.int8, 1)])\n",
      "C:\\Users\\yanis\\anaconda3\\lib\\site-packages\\tensorflow\\python\\framework\\dtypes.py:527: FutureWarning: Passing (type, 1) or '1type' as a synonym of type is deprecated; in a future version of numpy, it will be understood as (type, (1,)) / '(1,)type'.\n",
      "  _np_quint8 = np.dtype([(\"quint8\", np.uint8, 1)])\n",
      "C:\\Users\\yanis\\anaconda3\\lib\\site-packages\\tensorflow\\python\\framework\\dtypes.py:528: FutureWarning: Passing (type, 1) or '1type' as a synonym of type is deprecated; in a future version of numpy, it will be understood as (type, (1,)) / '(1,)type'.\n",
      "  _np_qint16 = np.dtype([(\"qint16\", np.int16, 1)])\n",
      "C:\\Users\\yanis\\anaconda3\\lib\\site-packages\\tensorflow\\python\\framework\\dtypes.py:529: FutureWarning: Passing (type, 1) or '1type' as a synonym of type is deprecated; in a future version of numpy, it will be understood as (type, (1,)) / '(1,)type'.\n",
      "  _np_quint16 = np.dtype([(\"quint16\", np.uint16, 1)])\n",
      "C:\\Users\\yanis\\anaconda3\\lib\\site-packages\\tensorflow\\python\\framework\\dtypes.py:530: FutureWarning: Passing (type, 1) or '1type' as a synonym of type is deprecated; in a future version of numpy, it will be understood as (type, (1,)) / '(1,)type'.\n",
      "  _np_qint32 = np.dtype([(\"qint32\", np.int32, 1)])\n",
      "C:\\Users\\yanis\\anaconda3\\lib\\site-packages\\tensorflow\\python\\framework\\dtypes.py:535: FutureWarning: Passing (type, 1) or '1type' as a synonym of type is deprecated; in a future version of numpy, it will be understood as (type, (1,)) / '(1,)type'.\n",
      "  np_resource = np.dtype([(\"resource\", np.ubyte, 1)])\n",
      "Using TensorFlow backend.\n"
     ]
    }
   ],
   "source": [
    "import re\n",
    "# Importing required libraries\n",
    "from sklearn.model_selection import train_test_split\n",
    "import nltk\n",
    "nltk.download('stopwords')\n",
    "from nltk.corpus import stopwords\n",
    "from sklearn.feature_extraction.text import TfidfVectorizer\n",
    "import pandas as pd\n",
    "import numpy as np\n",
    "import seaborn as sns\n",
    "import matplotlib.pyplot as plt\n",
    "# keras\n",
    "from tensorflow import keras\n",
    "from keras.models import Sequential\n",
    "from keras.layers import Dense\n",
    "from tensorflow.keras import layers\n",
    "from keras.layers.core import Reshape, Flatten\n",
    "from keras.callbacks import EarlyStopping\n",
    "from keras.optimizers import Adam    \n",
    "\n"
   ]
  },
  {
   "cell_type": "markdown",
   "metadata": {
    "id": "_9D1OsUrhLAU"
   },
   "source": [
    "## Carry out the data pre-processing\n",
    "1). Read in data\n"
   ]
  },
  {
   "cell_type": "code",
   "execution_count": 2,
   "metadata": {
    "id": "Qff9OdQtXgO6"
   },
   "outputs": [],
   "source": [
    " # defining function to clean text and retrive closs-validation datasets\n",
    "def cleantxt(txt):\n",
    "    \"\"\"\n",
    "    Cleans the string passed. Cleaning Includes-\n",
    "    1. remove special characters/symbols\n",
    "    2. convert text to lower-case\n",
    "    3. retain only alphabets\n",
    "    4. remove words less than 3 characters\n",
    "    5. remove stop-words\n",
    "    \"\"\"  \n",
    "    # collecting english stop words from nltk-library\n",
    "    stpw = stopwords.words('english')\n",
    "    \n",
    "    # Adding custom stop-words\n",
    "    stpw.extend(['www','http','utc'])\n",
    "    stpw = set(stpw)\n",
    "    \n",
    "    # using regex to clean the text\n",
    "    txt = re.sub(r\"\\n\", \" \", txt)\n",
    "    txt = re.sub(\"[\\<\\[].*?[\\>\\]]\", \" \", txt)\n",
    "    txt = txt.lower()\n",
    "    txt = re.sub(r\"[^a-z ]\", \" \", txt)\n",
    "    txt = re.sub(r\"\\b\\w{1,3}\\b\", \" \",txt)\n",
    "    txt = \" \".join([x for x in txt.split() if x not in stpw])\n",
    "    return txt\n",
    "\n",
    "def load_data():\n",
    "    \"\"\"\n",
    "    Loads data and returns train, val, and test splits\n",
    "    \"\"\"\n",
    "    # Load the train dataset\n",
    "    df = pd.read_csv(\"data.csv\")\n",
    "    \n",
    "    # Clean the text\n",
    "    df['comment_text'] = df.comment_text.apply(lambda x : cleantxt(x))\n",
    "    \n",
    "    # separate explanatory and dependent variables\n",
    "    X = df.iloc[:,1]\n",
    "    y = df.iloc[:,2:]\n",
    "\n",
    "    # split for cross-validation (train-60%, validation 20% and test 20%)\n",
    "    X_train, X_test, y_train, y_test = train_test_split(X, y, test_size=0.4, random_state=123)\n",
    "    X_test, X_val, y_test, y_val = train_test_split(X_test, y_test, test_size=0.5, random_state=123)\n",
    "\n",
    "    return X_train, X_val, X_test, y_train, y_val, y_test\n",
    "    \n",
    "X_train, X_val, X_test, y_train, y_val, y_test = load_data() "
   ]
  },
  {
   "cell_type": "code",
   "execution_count": 3,
   "metadata": {
    "colab": {
     "base_uri": "https://localhost:8080/"
    },
    "id": "3WPVOSYHkHc_",
    "outputId": "a1f44bd6-06a1-4436-97fd-0fd2f66d26ac"
   },
   "outputs": [
    {
     "data": {
      "text/plain": [
       "(array([0, 1], dtype=int64), array([553196,  21256], dtype=int64))"
      ]
     },
     "execution_count": 3,
     "metadata": {},
     "output_type": "execute_result"
    }
   ],
   "source": [
    "np.unique(y_train, return_counts=True)"
   ]
  },
  {
   "cell_type": "code",
   "execution_count": 4,
   "metadata": {
    "colab": {
     "base_uri": "https://localhost:8080/",
     "height": 349
    },
    "id": "lLaVaUpmkMnk",
    "outputId": "d9fdf8c2-c557-4099-f146-32c851547b4b"
   },
   "outputs": [
    {
     "data": {
      "image/png": "[encoded data removed]",
      "text/plain": [
       "<Figure size 432x288 with 1 Axes>"
      ]
     },
     "metadata": {
      "needs_background": "light"
     },
     "output_type": "display_data"
    }
   ],
   "source": [
    "# Visualize the response variable, according to one of the ratget values\n",
    "sns.countplot(y_train.iloc[:,3]).set_title(\"Frequency Table\") # replace 4 by 3 the 5\n",
    "plt.show()"
   ]
  },
  {
   "cell_type": "markdown",
   "metadata": {
    "id": "Xokt070xhLAd"
   },
   "source": [
    "2). Create a TF IDF representation.\n",
    "\n",
    "https://scikit-learn.org/stable/modules/generated/sklearn.feature_extraction.text.TfidfVectorizer.html\n",
    "\n",
    "https://scikit-learn.org/stable/tutorial/text_analytics/working_with_text_data.html\n",
    "\n"
   ]
  },
  {
   "cell_type": "code",
   "execution_count": 5,
   "metadata": {
    "id": "cfItAtxCBXK-"
   },
   "outputs": [],
   "source": [
    "vect = TfidfVectorizer(decode_error='ignore',stop_words='english')\n",
    "\n",
    "train_tfidf = vect.fit_transform(X_train)\n",
    "val_tfidf = vect.transform(X_val)\n",
    "test_tfidf = vect.transform(X_test)"
   ]
  },
  {
   "cell_type": "markdown",
   "metadata": {
    "id": "24uXZOPuXgO9"
   },
   "source": [
    "## 2)-Build network and train it untill validation loss reduces (EarlyStopping)\n"
   ]
  },
  {
   "cell_type": "code",
   "execution_count": 6,
   "metadata": {
    "id": "ywKjN6PwjFuO"
   },
   "outputs": [
    {
     "name": "stdout",
     "output_type": "stream",
     "text": [
      "WARNING:tensorflow:From C:\\Users\\yanis\\anaconda3\\lib\\site-packages\\tensorflow\\python\\ops\\resource_variable_ops.py:435: colocate_with (from tensorflow.python.framework.ops) is deprecated and will be removed in a future version.\n",
      "Instructions for updating:\n",
      "Colocations handled automatically by placer.\n"
     ]
    }
   ],
   "source": [
    "ip_dim = train_tfidf.shape[1]\n",
    "\n",
    "model = Sequential() #define a sequential model\n",
    "model.add(Dense(64, input_dim=ip_dim, activation='relu'))  #Define a first layer with 64 units and relu as an activation function\n",
    "model.add(Dense(64, activation='relu')) #Define a second layer with 64 units and relu as an activation function\n",
    "model.add(Dense(6, activation='sigmoid')) # Define the input layer with 6units and sigmoid activation function"
   ]
  },
  {
   "cell_type": "code",
   "execution_count": 7,
   "metadata": {
    "colab": {
     "base_uri": "https://localhost:8080/",
     "height": 310
    },
    "id": "VDOiXYEBXgO9",
    "outputId": "4e041ba8-5c13-44cb-d6c2-50ee7fd02346"
   },
   "outputs": [
    {
     "name": "stdout",
     "output_type": "stream",
     "text": [
      "WARNING:tensorflow:From C:\\Users\\yanis\\anaconda3\\lib\\site-packages\\tensorflow\\python\\ops\\math_ops.py:3066: to_int32 (from tensorflow.python.ops.math_ops) is deprecated and will be removed in a future version.\n",
      "Instructions for updating:\n",
      "Use tf.cast instead.\n",
      "Train on 95742 samples, validate on 31915 samples\n",
      "Epoch 1/3\n",
      " - 260s - loss: 0.3063 - val_loss: 0.0986\n",
      "Epoch 2/3\n",
      " - 258s - loss: 0.0756 - val_loss: 0.0653\n",
      "Epoch 3/3\n",
      " - 306s - loss: 0.0509 - val_loss: 0.0618\n"
     ]
    }
   ],
   "source": [
    "#Compiling Model using optimizer with lr=1e-3\n",
    "opt = Adam(lr=1e-3)\n",
    "\n",
    "#model.compile by using loss='binary_crossentropy' and Adam optimizer\n",
    "model.compile(loss='binary_crossentropy',optimizer=opt)\n",
    "\n",
    "# Fitting Model to the data\n",
    "callbacks = [EarlyStopping(monitor='val_loss')]  #define the earlu stopping use [EarlyStopping(monitor='val_loss')]   \n",
    "hist_adam = model.fit(train_tfidf, np.asarray(y_train), batch_size=1000, epochs=3, verbose=2, validation_data=(val_tfidf, np.asarray(y_val)),\n",
    "         callbacks=callbacks)  # starts trainingg"
   ]
  },
  {
   "cell_type": "code",
   "execution_count": 8,
   "metadata": {
    "id": "9qQA1d4vXgO-",
    "outputId": "38447345-227d-4aff-f4e4-a83704c2ebf6"
   },
   "outputs": [
    {
     "data": {
      "text/plain": [
       "<matplotlib.legend.Legend at 0x263955c8408>"
      ]
     },
     "execution_count": 8,
     "metadata": {},
     "output_type": "execute_result"
    },
    {
     "data": {
      "image/png": "[encoded data removed]",
      "text/plain": [
       "<Figure size 432x288 with 1 Axes>"
      ]
     },
     "metadata": {
      "needs_background": "light"
     },
     "output_type": "display_data"
    }
   ],
   "source": [
    "#plot the following !!! \n",
    "plt.suptitle('Optimizer : Adam', fontsize=10)\n",
    "plt.ylabel('Loss', fontsize=16)\n",
    "plt.xlabel('Epoch', fontsize=14)\n",
    "plt.plot(hist_adam.history['loss'], color='b', label='Training Loss')\n",
    "plt.plot(hist_adam.history['val_loss'], color='r', label='Validation Loss')\n",
    "plt.legend(loc='upper right')"
   ]
  },
  {
   "cell_type": "markdown",
   "metadata": {
    "id": "E0j9Fo2xhLAe"
   },
   "source": [
    "## 3)Apply the Naive Bayes algorithm. Calculate the accuracy."
   ]
  },
  {
   "cell_type": "code",
   "execution_count": 9,
   "metadata": {
    "id": "R7UcTHxcXgO_",
    "outputId": "57ef2c75-6e7f-4831-d385-eac215a66e5a"
   },
   "outputs": [
    {
     "data": {
      "text/plain": [
       "<95742x118883 sparse matrix of type '<class 'numpy.int64'>'\n",
       "\twith 2106901 stored elements in Compressed Sparse Row format>"
      ]
     },
     "execution_count": 9,
     "metadata": {},
     "output_type": "execute_result"
    }
   ],
   "source": [
    "from sklearn.feature_extraction.text import TfidfVectorizer\n",
    "from sklearn.feature_extraction.text import CountVectorizer\n",
    "vect = CountVectorizer(decode_error='ignore',stop_words='english')\n",
    "train_dtm=vect.fit_transform(X_train)\n",
    "train_dtm"
   ]
  },
  {
   "cell_type": "code",
   "execution_count": 10,
   "metadata": {
    "id": "tXiaCqo0XgO_",
    "outputId": "b44e0c67-265e-4f9d-dd06-fad696074e07"
   },
   "outputs": [
    {
     "data": {
      "text/plain": [
       "MultinomialNB(alpha=0.01, class_prior=None, fit_prior=True)"
      ]
     },
     "execution_count": 10,
     "metadata": {},
     "output_type": "execute_result"
    }
   ],
   "source": [
    "from sklearn.naive_bayes import MultinomialNB\n",
    "nb = MultinomialNB(alpha=0.01)\n",
    "nb.fit(train_dtm, y_train.severe_toxic)"
   ]
  },
  {
   "cell_type": "code",
   "execution_count": 13,
   "metadata": {
    "id": "1lXwKyE1XgPA"
   },
   "outputs": [
    {
     "data": {
      "text/plain": [
       "MultinomialNB(alpha=0.01, class_prior=None, fit_prior=True)"
      ]
     },
     "execution_count": 13,
     "metadata": {},
     "output_type": "execute_result"
    }
   ],
   "source": [
    "from sklearn.naive_bayes import MultinomialNB\n",
    "nb = MultinomialNB(alpha=0.01, class_prior=None, fit_prior=True) #apply MultinomialNB\n",
    "nb.fit(train_dtm, y_train.severe_toxic)"
   ]
  },
  {
   "cell_type": "code",
   "execution_count": 14,
   "metadata": {},
   "outputs": [
    {
     "data": {
      "text/plain": [
       "0.9897014894194816"
      ]
     },
     "execution_count": 14,
     "metadata": {},
     "output_type": "execute_result"
    }
   ],
   "source": [
    "y_pred_nb = nb.predict(train_dtm)\n",
    "from sklearn import metrics\n",
    "nbAcc=metrics.accuracy_score(y_train.severe_toxic, y_pred_nb)\n",
    "nbAcc"
   ]
  },
  {
   "cell_type": "code",
   "execution_count": null,
   "metadata": {},
   "outputs": [],
   "source": []
  },
  {
   "cell_type": "code",
   "execution_count": null,
   "metadata": {},
   "outputs": [],
   "source": []
  }
 ],
 "metadata": {
  "accelerator": "GPU",
  "colab": {
   "collapsed_sections": [],
   "name": "SIC_Assil_Revision-_Deep_Learning_1.ipynb",
   "provenance": []
  },
  "kernelspec": {
   "display_name": "Python 3",
   "language": "python",
   "name": "python3"
  },
  "language_info": {
   "codemirror_mode": {
    "name": "ipython",
    "version": 3
   },
   "file_extension": ".py",
   "mimetype": "text/x-python",
   "name": "python",
   "nbconvert_exporter": "python",
   "pygments_lexer": "ipython3",
   "version": "3.7.6"
  }
 },
 "nbformat": 4,
 "nbformat_minor": 1
}
